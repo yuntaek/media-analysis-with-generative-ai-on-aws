{
 "cells": [
  {
   "cell_type": "markdown",
   "id": "a899bfb2-fa00-482e-ab5a-f97daa18d876",
   "metadata": {
    "execution": {
     "iopub.execute_input": "2025-01-20T23:22:21.289317Z",
     "iopub.status.busy": "2025-01-20T23:22:21.288559Z",
     "iopub.status.idle": "2025-01-20T23:22:21.296763Z",
     "shell.execute_reply": "2025-01-20T23:22:21.295537Z",
     "shell.execute_reply.started": "2025-01-20T23:22:21.289288Z"
    }
   },
   "source": [
    "# Extract and analyze a movie"
   ]
  },
  {
   "cell_type": "markdown",
   "id": "259074a6-a277-4247-a8d1-faa44d0020bf",
   "metadata": {},
   "source": [
    "미디어 & 엔터테인먼트, 광고 및 스포츠와 같은 산업은 TV 쇼, 영화, 뉴스, 스포츠 이벤트, 다큐멘터리 등을 포함한 방대한 전문 제작 비디오 인벤토리를 관리합니다. 이러한 유형의 비디오 콘텐츠에서 효과적으로 인사이트를 추출하기 위해, 사용자들은 비디오 요약, 장면 수준 분석, 광고 타겟팅을 위한 IAB 분류, 화자 식별과 같은 정보가 필요합니다.\n",
    "\n",
    "> [IAB 카테고리](https://smartclip.tv/adtech-glossary/iab-categories/)는 Interactive Advertising Bureau (IAB)에서 개발한 웹 콘텐츠에 대한 표준 분류입니다. 이러한 카테고리들은 광고주들을 산업과 세그먼트로 분류하는 데 사용됩니다."
   ]
  },
  {
   "cell_type": "markdown",
   "id": "d9cba547-3ef6-4194-a2e6-315e5abe7963",
   "metadata": {},
   "source": [
    "이 실습에서는 BDA Video를 사용하여 오픈소스 샘플 영화인 Meridian을 추출하고 분석할 것입니다. 이 과정을 통해 프로세스를 살펴보고 생성된 출력물들을 탐색할 것입니다."
   ]
  },
  {
   "cell_type": "markdown",
   "id": "a87659b5-90c4-40a4-9c03-931d70ab8955",
   "metadata": {},
   "source": [
    "## Prerequisites"
   ]
  },
  {
   "cell_type": "markdown",
   "id": "846d3478-84a7-4c29-a5e6-4a3f6c686d4b",
   "metadata": {},
   "source": [
    "### 이전 노트북에서 저장된 값 불러오기\n",
    "\n",
    "이 노트북을 실행하려면 이전 노트북인 [00_prerequisites.ipynb](./00-prequisites.ipynb)를 실행했어야 합니다. 해당 노트북에서 패키지 종속성을 설치하고 SageMaker 환경에서 일부 정보를 수집했습니다."
   ]
  },
  {
   "cell_type": "code",
   "execution_count": null,
   "id": "ccf4af39-302a-4659-b377-c6232ec1458c",
   "metadata": {},
   "outputs": [],
   "source": [
    "store -r"
   ]
  },
  {
   "cell_type": "code",
   "execution_count": null,
   "id": "dadc3186-7df3-4e5f-ae7d-2522ce275209",
   "metadata": {
    "scrolled": true
   },
   "outputs": [],
   "source": [
    "data_bucket = session[\"bucket\"]\n",
    "region = sagemaker_resources[\"region\"]\n",
    "data_prefix = \"bda/video\"\n",
    "output_prefix = \"bda/video/ouput\""
   ]
  },
  {
   "cell_type": "code",
   "execution_count": null,
   "id": "b94080f3-7a23-4b04-898d-57be31c638a4",
   "metadata": {
    "editable": true,
    "slideshow": {
     "slide_type": ""
    },
    "tags": []
   },
   "outputs": [],
   "source": [
    "import boto3\n",
    "import json\n",
    "import uuid\n",
    "import utils\n",
    "\n",
    "bda_client = boto3.client('bedrock-data-automation')\n",
    "bda_runtime_client = boto3.client('bedrock-data-automation-runtime')\n",
    "s3_client = boto3.client('s3')\n",
    "\n",
    "#access account id\n",
    "sts_client = boto3.client('sts')\n",
    "account_id = sts_client.get_caller_identity()[\"Account\"]\n",
    "\n",
    "default_profile_arn = f\"arn:aws:bedrock:{region}:{account_id}:data-automation-profile/us.data-automation-v1\""
   ]
  },
  {
   "cell_type": "markdown",
   "id": "aa554a34-ae81-4802-9ca5-b4a40e759f7e",
   "metadata": {
    "execution": {
     "iopub.execute_input": "2025-01-21T00:31:53.506949Z",
     "iopub.status.busy": "2025-01-21T00:31:53.506589Z",
     "iopub.status.idle": "2025-01-21T00:31:53.513035Z",
     "shell.execute_reply": "2025-01-21T00:31:53.511550Z",
     "shell.execute_reply.started": "2025-01-21T00:31:53.506925Z"
    }
   },
   "source": [
    "## BDA 프로젝트 생성 및 비디오를 위한 표준 출력 구성 설정\n",
    "\n",
    "BDA 작업을 시작하려면 표준 및 사용자 지정 출력 구성을 모두 관리하는 BDA 프로젝트가 필요합니다. 이 프로젝트는 재사용이 가능하며, 동일한 설정을 공유하는 여러 비디오를 처리하는 데 동일한 구성을 적용할 수 있습니다."
   ]
  },
  {
   "cell_type": "markdown",
   "id": "431eeea0-12c1-4cd7-8e40-f8c3d8b3f8be",
   "metadata": {},
   "source": [
    "아래 코드 스니펫에서는 비디오 모달리티를 위한 표준 출력 구성으로 BDA 프로젝트를 생성합니다. 이러한 구성은 필요한 특정 정보만 추출하도록 조정할 수 있습니다. 이 실습에서는 다음과 같은 비디오 출력을 활성화할 것입니다:\n",
    "- 전체 비디오 요약\n",
    "- 장면 요약\n",
    "- 장면 수준의 IAB 카테고리\n",
    "- 전체 오디오 트랜스크립트\n",
    "- 경계 상자가 있는 비디오 내 텍스트\n",
    "\n",
    "BDA 프로젝트 생성을 위한 전체 API 참조는 이 [문서](https://boto3.amazonaws.com/v1/documentation/api/latest/reference/services/bedrock-data-automation/client/create_data_automation_project.html)를 참조하세요."
   ]
  },
  {
   "cell_type": "code",
   "execution_count": null,
   "id": "4f2510f5-f4f2-4fdd-ac96-4d9edbeeba42",
   "metadata": {},
   "outputs": [],
   "source": [
    "response = bda_client.create_data_automation_project(\n",
    "    projectName=f'bda-workshop-video-project-{str(uuid.uuid4())[0:4]}',\n",
    "    projectDescription='BDA workshop video sample project',\n",
    "    projectStage='DEVELOPMENT',\n",
    "    standardOutputConfiguration={\n",
    "        'video': {\n",
    "            'extraction': {\n",
    "                'category': {\n",
    "                    'state': 'ENABLED',\n",
    "                    'types': ['TEXT_DETECTION','TRANSCRIPT'],\n",
    "                },\n",
    "                'boundingBox': {\n",
    "                    'state': 'ENABLED',\n",
    "                }\n",
    "            },\n",
    "            'generativeField': {\n",
    "                'state': 'ENABLED',\n",
    "                'types': ['VIDEO_SUMMARY','CHAPTER_SUMMARY','IAB'],\n",
    "            }\n",
    "        }\n",
    "    }\n",
    ")"
   ]
  },
  {
   "cell_type": "markdown",
   "id": "6c1dfd78-a072-4375-b970-d2650909f0de",
   "metadata": {},
   "source": [
    "create_data_automation_project API는 프로젝트 ARN을 반환할 것이며, 이를 비디오 분석 작업을 호출하는 데 사용할 것입니다."
   ]
  },
  {
   "cell_type": "code",
   "execution_count": null,
   "id": "e824ab6c-5249-4364-927c-c5def65a32a8",
   "metadata": {},
   "outputs": [],
   "source": [
    "video_project_arn = response.get(\"projectArn\")\n",
    "print(\"BDA video project ARN:\", video_project_arn)"
   ]
  },
  {
   "cell_type": "markdown",
   "id": "b9b81791-e597-457f-a375-265bc0711525",
   "metadata": {},
   "source": [
    "## 영화를 추출하고 분석하기 위한 비동기 BDA 작업 시작하기\n",
    "이 섹션에서는 오픈소스 영화인 Meridian을 사용하여 BDA 프로젝트에서 정의된 구성을 적용하여 BDA로 추출하고 분석할 것입니다. 그런 다음 출력을 검토하여 BDA가 비디오 추출 및 분석을 수행하는 방법에 대해 더 깊이 이해할 것입니다."
   ]
  },
  {
   "cell_type": "markdown",
   "id": "c6fd5d08-0be9-495e-bdc3-27e2b68c0e55",
   "metadata": {
    "execution": {
     "iopub.execute_input": "2025-01-21T01:16:19.221297Z",
     "iopub.status.busy": "2025-01-21T01:16:19.220673Z",
     "iopub.status.idle": "2025-01-21T01:16:19.225680Z",
     "shell.execute_reply": "2025-01-21T01:16:19.224891Z",
     "shell.execute_reply.started": "2025-01-21T01:16:19.221270Z"
    }
   },
   "source": [
    "### 샘플 비디오 준비"
   ]
  },
  {
   "cell_type": "code",
   "execution_count": null,
   "id": "5bad7889-a3a7-4c82-9766-eb5ecb94acf8",
   "metadata": {},
   "outputs": [],
   "source": [
    "sample_video_movie = './NetflixMeridian.mp4'\n",
    "!curl \"https://ws-assets-prod-iad-r-pdx-f3b3f9f1a7d6a3d0.s3.us-west-2.amazonaws.com/7db2455e-0fa6-4f6d-9973-84daccd6421f/Netflix_Open_Content_Meridian.mp4\" --output NetflixMeridian.mp4\n"
   ]
  },
  {
   "cell_type": "markdown",
   "id": "462b8628-c692-4385-9725-48c4ea3b70cc",
   "metadata": {},
   "source": [
    "비디오를 표시해 보겠습니다. [Meridian](https://en.wikipedia.org/wiki/Meridian_(film))은 Netflix의 테스트 영화로, BDA가 비디오 추출과 함께 어떻게 작동하는지 보여주기 위해 사용합니다. 보시다 시피 여러 장면으로 구성된 클래식 스타일의 영화입니다."
   ]
  },
  {
   "cell_type": "code",
   "execution_count": null,
   "id": "9dd61670-4a65-471a-a75b-14525d923af2",
   "metadata": {},
   "outputs": [],
   "source": [
    "from IPython.display import Video\n",
    "Video(sample_video_movie, width=800)"
   ]
  },
  {
   "cell_type": "markdown",
   "id": "591cf849-11ec-4c37-a3dc-e1bb5c51c92e",
   "metadata": {},
   "source": [
    "비디오를 BDA로 분석하기 위해서는 BDA가 접근할 수 있는 S3 버킷에 업로드해야 합니다."
   ]
  },
  {
   "cell_type": "code",
   "execution_count": null,
   "id": "9717c142-df4d-4d34-8a98-8f36a5671fe3",
   "metadata": {},
   "outputs": [],
   "source": [
    "s3_key = f'{data_prefix}/{sample_video_movie.split(\"/\")[-1]}'\n",
    "s3_client.upload_file(sample_video_movie, data_bucket, s3_key)"
   ]
  },
  {
   "cell_type": "markdown",
   "id": "c40b33c9-a23c-4dd3-8f66-22d169e598b7",
   "metadata": {},
   "source": [
    "### BDA 작업 시작\n",
    "이제 업로드된 비디오를 처리하기 위해 BDA API를 호출할 것입니다. 실습 초반에 생성한 BDA 프로젝트 ARN을 제공하고 BDA가 출력 결과를 저장할 S3 위치를 지정해야 합니다.\n",
    "\n",
    "BDA 비동기 작업 호출을 위한 전체 API 참조는 이 [문서](https://boto3.amazonaws.com/v1/documentation/api/latest/reference/services/bedrock-data-automation-runtime/client/invoke_data_automation_async.html)를 참조하세요."
   ]
  },
  {
   "cell_type": "code",
   "execution_count": null,
   "id": "975dd432-79c0-4dca-912f-9d38faf70dd9",
   "metadata": {},
   "outputs": [],
   "source": [
    "response = bda_runtime_client.invoke_data_automation_async(\n",
    "    inputConfiguration={\n",
    "        's3Uri': f's3://{data_bucket}/{s3_key}'\n",
    "    },\n",
    "    outputConfiguration={\n",
    "        's3Uri': f's3://{data_bucket}/{output_prefix}'\n",
    "    },\n",
    "    dataAutomationConfiguration={\n",
    "        'dataAutomationProjectArn': video_project_arn,\n",
    "        'stage': 'DEVELOPMENT'\n",
    "    },\n",
    "    notificationConfiguration={\n",
    "        'eventBridgeConfiguration': {\n",
    "            'eventBridgeEnabled': False\n",
    "        }\n",
    "    },\n",
    "    dataAutomationProfileArn=default_profile_arn\n",
    ")"
   ]
  },
  {
   "cell_type": "markdown",
   "id": "12c8b65a-1e4e-4dc1-b011-254e7d1cc941",
   "metadata": {},
   "source": [
    "`invoke_data_automation_async` API는 비동기식입니다. 이는 호출 작업 식별자인 `invocationArn`을 반환합니다. 그런 다음 다른 API인 `get_data_automation_status`를 사용하여 작업이 완료될 때까지 작업의 상태를 모니터링할 수 있습니다.\n",
    "\n",
    "> 프로덕션 워크로드에서는 이벤트 기반 패턴이 권장됩니다. 작업이 완료되면 BDA가 다음 단계를 트리거하도록 합니다. 이는 Lambda 함수와 같은 구독된 AWS 서비스에 알림을 보내는 invoke 작업에서 notificationConfiguration을 구성하여 달성할 수 있습니다. 또는 BDA가 결과를 저장할 버킷에 S3 트리거를 설정할 수 있습니다."
   ]
  },
  {
   "cell_type": "code",
   "execution_count": null,
   "id": "61061730-ded4-4852-bbf4-d18ab1168c9b",
   "metadata": {},
   "outputs": [],
   "source": [
    "invocation_arn = response.get(\"invocationArn\")\n",
    "print(\"BDA task started:\", invocation_arn)"
   ]
  },
  {
   "cell_type": "markdown",
   "id": "d13518bf-15eb-4e83-bc4b-955b66974457",
   "metadata": {},
   "source": [
    "이 실습에서는 작업이 완료될 때까지 5초마다 `get_data_automation_status` API를 호출하여 작업을 모니터링하기 위해 아래 루프를 사용할 것입니다.\n",
    "\n",
    "이 비디오는 약 5-10분이 소요됩니다."
   ]
  },
  {
   "cell_type": "code",
   "execution_count": null,
   "id": "7cb9c48c-9347-43ba-8148-1ea9c29479fb",
   "metadata": {},
   "outputs": [],
   "source": [
    "import time\n",
    "from IPython.display import clear_output\n",
    "from datetime import datetime\n",
    "\n",
    "status, status_response = None, None\n",
    "while status not in [\"Success\",\"ServiceError\",\"ClientError\"]:\n",
    "    status_response = bda_runtime_client.get_data_automation_status(\n",
    "        invocationArn=invocation_arn\n",
    "    )\n",
    "    status = status_response.get(\"status\")\n",
    "    clear_output(wait=True)\n",
    "    print(f\"{datetime.now().strftime('%H:%M:%S')} : BDA video task: {status}\")\n",
    "    time.sleep(5)\n",
    "\n",
    "output_config = status_response.get(\"outputConfiguration\",{}).get(\"s3Uri\")\n",
    "print(\"Ouput configureation file:\", output_config)"
   ]
  },
  {
   "cell_type": "markdown",
   "id": "58c617c2-3a71-43dd-b996-d7b9a4d86f08",
   "metadata": {},
   "source": [
    "## BDA 분석 결과 접근하기\n",
    "`get_data_automation_status` API는 BDA가 추출 결과를 출력하는 S3 위치를 제공하는 결과 구성이 포함된 S3 URI를 반환합니다. 그런 다음 이 파일을 구문 분석하여 결과 경로를 검색할 것입니다."
   ]
  },
  {
   "cell_type": "code",
   "execution_count": null,
   "id": "36e1adb7-1620-491f-adb1-b616451d62be",
   "metadata": {
    "scrolled": true
   },
   "outputs": [],
   "source": [
    "config_data = utils.read_json_on_s3(output_config,s3_client)\n",
    "print(json.dumps(config_data, indent=4))"
   ]
  },
  {
   "cell_type": "markdown",
   "id": "08dc0557-b53d-4dc4-ae1c-05de559093e7",
   "metadata": {
    "scrolled": true
   },
   "source": [
    "위에서 보듯이, BDA 출력 구성 파일에는 작업 ID, 상태, 모달리티 및 실제 결과 JSON의 S3 위치를 포함하여 BDA 결과에 대한 메타데이터가 포함되어 있습니다. 이제 이 결과 파일을 다운로드하여 출력을 확인할 것입니다."
   ]
  },
  {
   "cell_type": "code",
   "execution_count": null,
   "id": "dc93edb4-e459-4c00-aeb6-31577240aabe",
   "metadata": {
    "scrolled": true
   },
   "outputs": [],
   "source": [
    "from IPython.display import JSON\n",
    "\n",
    "result_uri = config_data[\"output_metadata\"][0][\"segment_metadata\"][0][\"standard_output_path\"]\n",
    "result_data = utils.read_json_on_s3(result_uri,s3_client)\n",
    "\n",
    "JSON(result_data)"
   ]
  },
  {
   "cell_type": "markdown",
   "id": "6dc2b413-3f1c-4225-8f60-01c00a256110",
   "metadata": {},
   "source": [
    "## 결과 검토\n",
    "BDA 비디오 분석 결과는 비디오 및 장면 수준으로 구성된 상세한 정보 분석을 포함합니다.\n",
    "> 비디오 장면은 비디오 내에서 일관된 행동이나 내러티브 단위를 형성하는 일련의 샷들입니다."
   ]
  },
  {
   "cell_type": "markdown",
   "id": "b6e9aaec-d8a1-4b0d-9cb1-fdfcd85cb694",
   "metadata": {},
   "source": [
    "### 전체 비디오 요약\n",
    "\n",
    "비디오 수준의 요약을 살펴보겠습니다 - 이는 비디오 전반에 걸쳐 제시된 주요 주제, 이벤트 및 정보를 간단한 요약으로 압축한 것입니다."
   ]
  },
  {
   "cell_type": "code",
   "execution_count": null,
   "id": "b293b8fe-0db9-455a-9dfa-dd06a9063d0d",
   "metadata": {
    "scrolled": true
   },
   "outputs": [],
   "source": [
    "print(result_data[\"video\"][\"summary\"])"
   ]
  },
  {
   "cell_type": "markdown",
   "id": "8abfee39-d157-4b55-bc6b-6011b82579d5",
   "metadata": {},
   "source": [
    "### 전체 비디오 트랜스크립션\n",
    "비디오 수준에서는 화자가 식별된 비디오의 오디오를 기반으로 한 전체 트랜스크립트도 받습니다."
   ]
  },
  {
   "cell_type": "code",
   "execution_count": null,
   "id": "543bee0b-c95c-4082-9109-0bbf1fe69b96",
   "metadata": {
    "scrolled": true
   },
   "outputs": [],
   "source": [
    "print(result_data[\"video\"][\"transcript\"][\"representation\"][\"text\"])"
   ]
  },
  {
   "cell_type": "markdown",
   "id": "af915615-73b4-47c7-9ac4-c35637d028af",
   "metadata": {},
   "source": [
    "### 장면 정의, 요약 및 IAB 카테고리\n",
    "BDA는 또한 프로젝트 구성에 지정된 대로 장면 수준의 요약을 생성합니다. 추가적으로 각 장면의 시작 및 종료 시간과 함께 장면 콘텐츠를 기반으로 분류된 [IAB](https://en.wikipedia.org/wiki/Interactive_Advertising_Bureau) 카테고리를 포함한 더 많은 메타데이터를 얻을 수 있습니다."
   ]
  },
  {
   "cell_type": "code",
   "execution_count": null,
   "id": "7e9fc8b5-fda1-47c9-99a6-d9cf9e5dcd24",
   "metadata": {
    "scrolled": true
   },
   "outputs": [],
   "source": [
    "for chapter in result_data[\"chapters\"]:\n",
    "    iabs = []\n",
    "    if chapter.get(\"iab_categories\"):\n",
    "        for iab in chapter[\"iab_categories\"]:\n",
    "            iabs.append(iab[\"category\"])\n",
    "        \n",
    "    print(f'[{chapter[\"start_timecode_smpte\"]} - {chapter[\"end_timecode_smpte\"]}] {\", \".join(iabs)}')\n",
    "    print(chapter[\"summary\"])\n",
    "    print()"
   ]
  },
  {
   "cell_type": "markdown",
   "id": "a47d7a98-648d-4277-9ec7-8717b55211c4",
   "metadata": {},
   "source": [
    "### 상세 오디오 트랜스크립트\n",
    "장면 수준에서도 상세 트랜스크립트를 사용할 수 있습니다. 각 장면 아래에서 타임스탬프가 포함된 `audio_segments`라는 목록을 찾을 수 있습니다. 이는 상세한 트랜스크립트 정보가 필요한 추가적인 다운스트림 분석을 지원할 수 있습니다."
   ]
  },
  {
   "cell_type": "code",
   "execution_count": null,
   "id": "3d2337c1-2a0b-40a9-81b7-1f3dfe1270bc",
   "metadata": {
    "scrolled": true
   },
   "outputs": [],
   "source": [
    "for chapter in result_data[\"chapters\"]:\n",
    "    for trans in chapter[\"audio_segments\"]:\n",
    "        print(f'[{trans[\"start_timestamp_millis\"]/1000} - {trans[\"end_timestamp_millis\"]/1000}] {trans[\"text\"]}')"
   ]
  },
  {
   "cell_type": "markdown",
   "id": "de933514-e57b-45c7-9a7a-af12a528604b",
   "metadata": {},
   "source": [
    "### 프레임 수준의 텍스트 추출과 경계 상자 및 신뢰도 점수\n",
    "텍스트 추출은 경계 상자 및 신뢰도 점수와 함께 프레임 수준에서 사용할 수 있습니다. 출력 JSON 구조에서 프레임은 캡처된 타임스탬프와 함께 각 장면 아래에 구성됩니다. 주어진 프레임에서 텍스트가 감지되면 프레임 수준에서 text_words와 text_lines를 찾을 수 있습니다.\n",
    "\n",
    "감지된 텍스트가 있는 주어진 장면에 대한 프레임을 경계 상자와 함께 표시해 보겠습니다."
   ]
  },
  {
   "cell_type": "code",
   "execution_count": null,
   "id": "207ed953-7356-4d09-a1ec-a941908446c0",
   "metadata": {},
   "outputs": [],
   "source": [
    "# plot all frames with boundingbox in the given scene\n",
    "chapter_index = 1 \n",
    "\n",
    "width = result_data[\"metadata\"][\"frame_width\"]\n",
    "height = result_data[\"metadata\"][\"frame_height\"]\n",
    "\n",
    "from moviepy.video.io.VideoFileClip import VideoFileClip\n",
    "from PIL import Image, ImageDraw\n",
    "import matplotlib.pyplot as plt\n",
    "\n",
    "with VideoFileClip(sample_video_movie) as video_clip:\n",
    "    for chapter in result_data[\"chapters\"]:\n",
    "        if chapter[\"chapter_index\"] == chapter_index:\n",
    "            for frame in chapter[\"frames\"]:\n",
    "                bboxes = []\n",
    "                if frame.get(\"text_lines\"):\n",
    "                    for tl in frame[\"text_lines\"]:\n",
    "                        for l in tl[\"locations\"]:\n",
    "                            bbox = l[\"bounding_box\"]\n",
    "                            if bbox:\n",
    "                                bboxes.append((\n",
    "                                                width*bbox[\"left\"], \n",
    "                                                height*bbox[\"top\"], \n",
    "                                                width * (bbox[\"width\"]+bbox[\"left\"]), \n",
    "                                                height * (bbox[\"height\"] + bbox[\"top\"])\n",
    "                                            ))\n",
    "                if bboxes:\n",
    "                    timestamp = frame[\"timestamp_millis\"]/1000\n",
    "                    frame = video_clip.get_frame(timestamp)  \n",
    "                    frame_image = Image.fromarray(frame)\n",
    "                    draw = ImageDraw.Draw(frame_image)\n",
    "                    for box in bboxes:\n",
    "                        draw.rectangle(box, outline=\"red\", width=2)\n",
    "\n",
    "                    plt.figure(figsize=(10, 6))\n",
    "                    plt.imshow(frame_image)\n",
    "                    plt.title(f\"Frame at {timestamp} seconds with Bounding Boxes\")\n",
    "                    plt.axis(\"off\")\n",
    "                    plt.show()"
   ]
  },
  {
   "cell_type": "markdown",
   "id": "d7ebc676-e867-4155-b136-556943b7a4b8",
   "metadata": {},
   "source": [
    "## 요약\n",
    "BDA 비디오는 구성에 의해 관리되는 매우 상세한 메타데이터를 반환합니다. 이 실습에서는 영화를 예시로 사용하여 미디어 비디오 분석에 필요한 표준 출력을 활성화했습니다. 출력 JSON을 탐색하여 더 많은 세부 정보를 발견할 수 있습니다. 이 실습에서는 콘텐츠 규제/제한 감지 및 분석을 다루지 않습니다. 이를 위해서는 BDA 비디오가 제공하는 조정 분석을 더 잘 이해하기 위해 소셜 미디어 스타일의 비디오를 예시로 사용하는 다음 실습을 참조할 수 있습니다."
   ]
  },
  {
   "cell_type": "markdown",
   "id": "0f626c2f-2994-4d5e-86f8-1084c319e9ea",
   "metadata": {},
   "source": [
    "## 정리\n",
    "\n",
    "BDA 프로젝트, 블루프린트, 이미지 및 S3의 결과를 삭제합니다."
   ]
  },
  {
   "cell_type": "code",
   "execution_count": null,
   "id": "31814f0d-5ae7-40d0-8344-4b50050e2358",
   "metadata": {},
   "outputs": [],
   "source": [
    "# delete BDA project\n",
    "response = bda_client.delete_data_automation_project(\n",
    "    projectArn=video_project_arn\n",
    ")\n",
    "response"
   ]
  },
  {
   "cell_type": "code",
   "execution_count": null,
   "id": "e03d9f2c-74a7-4427-9632-836a9be25018",
   "metadata": {},
   "outputs": [],
   "source": [
    "# delete uploaded image from S3\n",
    "s3_client.delete_object(Bucket=data_bucket, Key=s3_key)"
   ]
  },
  {
   "cell_type": "markdown",
   "id": "0b9d3909-cd8a-4760-8058-1c0092297546",
   "metadata": {},
   "source": [
    "## 워크샵의 다음 섹션으로 계속하기\n",
    "\n",
    "워크샵의 다음 섹션에서는 BDA에서 생성된 메타데이터를 사용하여 사용 사례를 해결할 것입니다.\n",
    "\n",
    "다음 노트북으로 이동하세요 [문맥 기반 광고 오버레이]([02-contextual-ad-overlay-kr.ipynb])"
   ]
  },
  {
   "cell_type": "code",
   "execution_count": null,
   "id": "6905106f-e7d9-4ffc-911d-3f3b50f7bc33",
   "metadata": {},
   "outputs": [],
   "source": []
  }
 ],
 "metadata": {
  "kernelspec": {
   "display_name": "Python 3 (ipykernel)",
   "language": "python",
   "name": "python3"
  },
  "language_info": {
   "codemirror_mode": {
    "name": "ipython",
    "version": 3
   },
   "file_extension": ".py",
   "mimetype": "text/x-python",
   "name": "python",
   "nbconvert_exporter": "python",
   "pygments_lexer": "ipython3",
   "version": "3.12.9"
  }
 },
 "nbformat": 4,
 "nbformat_minor": 5
}
