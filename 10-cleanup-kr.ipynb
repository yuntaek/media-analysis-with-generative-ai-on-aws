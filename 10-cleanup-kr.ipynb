{
 "cells": [
  {
   "cell_type": "markdown",
   "metadata": {
    "editable": true,
    "slideshow": {
     "slide_type": ""
    },
    "tags": []
   },
   "source": [
    "# 정리\n",
    "\n",
    "이 노트북은 **자체 계정에서 시작하기** 지침을 따랐을 때 생성된 모든 리소스를 정리하는 방법을 보여줍니다. 자체 계정에서 워크샵을 실행하는 경우 이 노트북을 따르세요.\n",
    "\n",
    "<div class=\"alert alert-block alert-info\">\n",
    "🛑 AWS 이벤트에서 실행 중인 경우 이 단계들을 따를 필요가 없습니다. 리소스는 자동으로 정리될 것입니다.\n",
    "</div>"
   ]
  },
  {
   "cell_type": "code",
   "execution_count": null,
   "metadata": {
    "vscode": {
     "languageId": "plaintext"
    }
   },
   "outputs": [],
   "source": [
    "%store -r"
   ]
  },
  {
   "cell_type": "markdown",
   "metadata": {},
   "source": [
    "## S3 버킷 삭제하기\n",
    "\n",
    "워크샵에서 사용한 버킷 이름을 찾으려면 아래 셀을 실행하세요"
   ]
  },
  {
   "cell_type": "code",
   "execution_count": null,
   "metadata": {
    "vscode": {
     "languageId": "plaintext"
    }
   },
   "outputs": [],
   "source": [
    "session['bucket']"
   ]
  },
  {
   "cell_type": "markdown",
   "metadata": {},
   "source": [
    "1. [S3 콘솔](https://us-west-2.console.aws.amazon.com/s3/home?region=us-west-2)로 이동하세요\n",
    "2. 버킷 이름 옆의 라디오 버튼을 선택하세요\n",
    "3. **비우기** 버튼을 클릭하고 버킷 비우기 대화상자의 지침을 따르세요. 버킷을 비우면 워크샵 동안 생성된 모든 메타데이터가 제거됩니다.\n",
    "4. 버킷이 비워지면 [S3 콘솔](https://us-west-2.console.aws.amazon.com/s3/home?region=us-west-2)로 돌아갈 수 있습니다\n",
    "5. 라디오 버튼을 다시 선택하세요\n",
    "6. **삭제** 버튼을 클릭하고 버킷 삭제 대화상자의 지침을 따르세요."
   ]
  },
  {
   "cell_type": "markdown",
   "metadata": {},
   "source": [
    "## OpenSearch Serverless 컬렉션 삭제하기\n",
    "\n",
    "OpenSearch Serverless 컬렉션 엔드포인트 이름을 가져오려면 아래 셀을 실행하세요"
   ]
  },
  {
   "cell_type": "code",
   "execution_count": null,
   "metadata": {},
   "outputs": [],
   "source": [
    "session[\"AOSSCollectionEndpoint\"]"
   ]
  },
  {
   "cell_type": "markdown",
   "metadata": {},
   "source": [
    "1. [OpenSearch Serverless 콘솔 컬렉션 페이지](https://us-west-2.console.aws.amazon.com/aos/home?region=us-west-2#opensearch/collections)로 이동하세요\n",
    "2. **Getting Started in Your Own Account** 섹션에서 생성한 컬렉션의 라디오 버튼을 선택하세요.\n",
    "3. **Delete** 버튼을 클릭하고 지침을 따르세요."
   ]
  },
  {
   "cell_type": "markdown",
   "metadata": {},
   "source": [
    "## SageMaker Studio 도메인 삭제하기\n",
    "\n",
    "SageMaker Studio 도메인에서 Space를 삭제하려면 해당 space의 모든 앱을 중지해야 합니다.\n",
    "\n",
    "1. SageMaker Studio로 이동하여 Jupyter 앱 열기\n",
    "2. 앱의 Space 옆에 있는 `중지` 버튼 클릭\n",
    "3. [SageMaker 콘솔 도메인 페이지](https://us-west-2.console.aws.amazon.com/sagemaker/home?region=us-west-2#/studio)로 이동\n",
    "4. 워크샵을 위해 생성한 도메인 링크를 선택하여 **Domain details** 페이지로 이동\n",
    "5. **Delete domain** 패널까지 아래로 스크롤. **Delete domain** 버튼을 클릭하고 지침을 따르세요."
   ]
  }
 ],
 "metadata": {
  "kernelspec": {
   "display_name": "Python 3 (ipykernel)",
   "language": "python",
   "name": "python3"
  },
  "language_info": {
   "codemirror_mode": {
    "name": "ipython",
    "version": 3
   },
   "file_extension": ".py",
   "mimetype": "text/x-python",
   "name": "python",
   "nbconvert_exporter": "python",
   "pygments_lexer": "ipython3",
   "version": "3.12.9"
  }
 },
 "nbformat": 4,
 "nbformat_minor": 4
}
