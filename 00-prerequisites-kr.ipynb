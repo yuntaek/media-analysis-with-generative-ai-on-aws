{
 "cells": [
  {
   "cell_type": "markdown",
   "id": "9c84a641-be01-4cd5-8b24-f175f16121c4",
   "metadata": {
    "editable": false,
    "slideshow": {
     "slide_type": ""
    },
    "tags": []
   },
   "source": [
    "# Prerequisites"
   ]
  },
  {
   "cell_type": "markdown",
   "id": "9e9ab7a0-5fd1-4418-a0c2-4e401ad47eef",
   "metadata": {},
   "source": [
    "## 개요"
   ]
  },
  {
   "cell_type": "markdown",
   "id": "9314b5cb-335e-48d2-b26a-a1ab92291f36",
   "metadata": {
    "editable": true,
    "slideshow": {
     "slide_type": ""
    },
    "tags": []
   },
   "source": [
    "AWS 비디오 이해 워크숍에 오신 것을 환영합니다!\n",
    "\n",
    "이 워크숍은 두 가지 주요 부분으로 구성되어 있습니다: 1. Bedrock Data Automation을 사용한 미디어 분석과 2. Amazon Nova를 사용한 미디어 분석. 각 섹션에 대한 개요를 살펴보세요. 이 노트북을 실행한 후에는 파트 1과 파트 2를 독립적으로 실행할 수 있습니다.\n",
    "\n",
    "**사전 요구사항**\n",
    "\n",
    "메인 워크숍을 실행하기 전에, 이 노트북을 사용하여 노트북 환경을 설정하게 됩니다.\n",
    "\n",
    "**파트 1: Bedrock Data Automation(BDA)을 사용한 미디어 분석:**\n",
    "\n",
    "이 섹션의 노트북들은 BDA API와 사용 사례에 대한 개요를 제공합니다. 순서에 관계없이 실행할 수 있습니다.\n",
    "\n",
    "1. [BDA를 사용한 영화 추출 및 분석](1-media-analysis-using-bda/01-extract-analyze-a-movie.ipynb)\n",
    "2. [문맥 기반 광고 오버레이](1-media-analysis-using-bda/02-contextual-ad-overlay.ipynb)\n",
    "\n",
    "**파트 2: Amazon Nova를 사용한 미디어 분석:**\n",
    "\n",
    "기초 노트북에서는 노트북 환경을 설정하고, 샘플 비디오를 클립으로 분할하여 준비하며, Foundation 모델을 사용하여 비디오 클립에 대한 인사이트를 생성하는 실험을 하게 됩니다. 워크숍의 두 번째 부분에서는 이러한 기초를 바탕으로 다양한 비디오 이해 사용 사례를 해결합니다. 사용 사례들은 독립적이며 순서에 관계없이 실행할 수 있습니다.\n",
    "\n",
    "**기초 과정 (사용 사례 실행 전 필수)**\n",
    "1. [시각적 비디오 세그먼트: 프레임, 샷, 장면](2-media-analysis-using-amazon-nova/01A-visual-segments-frames-shots-scenes.ipynb) (20분)\n",
    "2. [오디오 세그먼트](2-media-analysis-using-amazon-nova/01B-audio-segments.ipynb) (10분)\n",
    "\n",
    "**사용 사례 (선택사항, 순서 무관):**\n",
    "\n",
    "기초 노트북을 실행한 후에는 원하는 사용 사례를 선택할 수 있습니다. AWS 워크숍 이벤트에 참여하시는 경우, 2시간 세션 동안 기초 과정과 하나의 사용 사례를 완료할 수 있습니다:\n",
    "\n",
    "* [광고 중단 감지 및 문맥 기반 광고 타겟팅](2-media-analysis-using-amazon-nova/02-ad-breaks-and-contextual-ad-targeting.ipynb) (20분) - 광고 삽입 기회를 식별합니다. 표준 분류법을 사용하여 비디오 콘텐츠를 광고 콘텐츠와 매칭합니다.\n",
    "* [비디오 요약](2-media-analysis-using-amazon-nova/03-video-summarization.ipynb) (20분) - 긴 비디오에서 짧은 형식의 비디오를 생성합니다\n",
    "* [의미론적 비디오 검색](2-media-analysis-using-amazon-nova/04-semantic-video-search.ipynb) (20분) - 이미지와 자연어를 사용하여 관련 클립을 찾기 위한 비디오 검색\n",
    "\n",
    "**리소스**\n",
    "\n",
    "이 워크숍의 활동들은 AWS 솔루션 가이드를 기반으로 합니다. [추가 리소스](./09-resources.ipynb) 랩에는 관련 참조 아키텍처, 코드 샘플 및 블로그 게시물에 대한 링크가 포함되어 있습니다."
   ]
  },
  {
   "cell_type": "markdown",
   "id": "8fce212e-9c89-4b32-8327-52fae47b2ff5",
   "metadata": {
    "editable": true,
    "slideshow": {
     "slide_type": ""
    },
    "tags": []
   },
   "source": [
    "# 파이썬 패키지와 ffmpeg 설치\n",
    "\n",
    "- ffmpeg: 비디오 및 이미지 처리용\n",
    "- faiss: 벡터 저장소용\n",
    "- webvtt-py: 자막 파일 파싱용\n",
    "- termcolor: 출력 형식 지정용"
   ]
  },
  {
   "cell_type": "code",
   "execution_count": 4,
   "id": "ab951b69-de93-47d8-9d1a-1ee1cbe334dc",
   "metadata": {
    "editable": false,
    "scrolled": true,
    "slideshow": {
     "slide_type": ""
    },
    "tags": []
   },
   "outputs": [
    {
     "name": "stdout",
     "output_type": "stream",
     "text": [
      "Hit:1 http://archive.ubuntu.com/ubuntu jammy InRelease\n",
      "Hit:2 http://archive.ubuntu.com/ubuntu jammy-updates InRelease\n",
      "Hit:3 http://security.ubuntu.com/ubuntu jammy-security InRelease\n",
      "Hit:4 http://archive.ubuntu.com/ubuntu jammy-backports InRelease\n",
      "Reading package lists... Done\n",
      "Building dependency tree... Done\n",
      "Reading state information... Done\n",
      "2 packages can be upgraded. Run 'apt list --upgradable' to see them.\n",
      "Reading package lists... Done\n",
      "Building dependency tree... Done\n",
      "Reading state information... Done\n",
      "ffmpeg is already the newest version (7:4.4.2-0ubuntu0.22.04.1).\n",
      "0 upgraded, 0 newly installed, 0 to remove and 2 not upgraded.\n"
     ]
    }
   ],
   "source": [
    "## install ffmpeg\n",
    "!sudo apt update -y && sudo apt-get -y install ffmpeg"
   ]
  },
  {
   "cell_type": "code",
   "execution_count": 2,
   "id": "8cc9bef1-db74-4935-b033-a25e4738e7c6",
   "metadata": {
    "editable": false,
    "slideshow": {
     "slide_type": ""
    },
    "tags": []
   },
   "outputs": [
    {
     "name": "stdout",
     "output_type": "stream",
     "text": [
      "/usr/bin/ffmpeg\n"
     ]
    }
   ],
   "source": [
    "## Make sure ffmpeg is installed\n",
    "!which ffmpeg"
   ]
  },
  {
   "cell_type": "code",
   "execution_count": 3,
   "id": "62880031-88de-4ba3-8267-aa3837d3df95",
   "metadata": {
    "editable": false,
    "scrolled": true,
    "slideshow": {
     "slide_type": ""
    },
    "tags": []
   },
   "outputs": [
    {
     "name": "stdout",
     "output_type": "stream",
     "text": [
      "Collecting faiss-cpu==1.8.0 (from -r requirements.txt (line 1))\n",
      "  Downloading faiss_cpu-1.8.0-cp312-cp312-manylinux_2_17_x86_64.manylinux2014_x86_64.whl.metadata (3.6 kB)\n",
      "Collecting ImageHash==4.3.1 (from -r requirements.txt (line 2))\n",
      "  Downloading ImageHash-4.3.1-py2.py3-none-any.whl.metadata (8.0 kB)\n",
      "Collecting imageio-ffmpeg==0.5.1 (from -r requirements.txt (line 3))\n",
      "  Downloading imageio_ffmpeg-0.5.1-py3-none-manylinux2010_x86_64.whl.metadata (1.6 kB)\n",
      "Collecting json_repair==0.30.2 (from -r requirements.txt (line 4))\n",
      "  Downloading json_repair-0.30.2-py3-none-any.whl.metadata (11 kB)\n",
      "Collecting matplotlib==3.9.2 (from -r requirements.txt (line 5))\n",
      "  Downloading matplotlib-3.9.2-cp312-cp312-manylinux_2_17_x86_64.manylinux2014_x86_64.whl.metadata (11 kB)\n",
      "Collecting moviepy==1.0.3 (from -r requirements.txt (line 6))\n",
      "  Downloading moviepy-1.0.3.tar.gz (388 kB)\n",
      "  Preparing metadata (setup.py) ... \u001b[?25ldone\n",
      "\u001b[?25hCollecting opencv-python-headless==4.10.0.84 (from -r requirements.txt (line 7))\n",
      "  Downloading opencv_python_headless-4.10.0.84-cp37-abi3-manylinux_2_17_x86_64.manylinux2014_x86_64.whl.metadata (20 kB)\n",
      "Collecting opensearch-py==2.4.2 (from -r requirements.txt (line 8))\n",
      "  Downloading opensearch_py-2.4.2-py2.py3-none-any.whl.metadata (6.8 kB)\n",
      "Collecting webvtt-py==0.5.1 (from -r requirements.txt (line 9))\n",
      "  Downloading webvtt_py-0.5.1-py3-none-any.whl.metadata (3.4 kB)\n",
      "Requirement already satisfied: termcolor in /opt/conda/lib/python3.12/site-packages (from -r requirements.txt (line 10)) (3.1.0)\n",
      "Collecting boto3==1.37.4 (from -r requirements.txt (line 11))\n",
      "  Downloading boto3-1.37.4-py3-none-any.whl.metadata (6.6 kB)\n",
      "Requirement already satisfied: numpy in /opt/conda/lib/python3.12/site-packages (from faiss-cpu==1.8.0->-r requirements.txt (line 1)) (1.26.4)\n",
      "Requirement already satisfied: PyWavelets in /opt/conda/lib/python3.12/site-packages (from ImageHash==4.3.1->-r requirements.txt (line 2)) (1.8.0)\n",
      "Requirement already satisfied: pillow in /opt/conda/lib/python3.12/site-packages (from ImageHash==4.3.1->-r requirements.txt (line 2)) (11.1.0)\n",
      "Requirement already satisfied: scipy in /opt/conda/lib/python3.12/site-packages (from ImageHash==4.3.1->-r requirements.txt (line 2)) (1.15.2)\n",
      "Requirement already satisfied: setuptools in /opt/conda/lib/python3.12/site-packages (from imageio-ffmpeg==0.5.1->-r requirements.txt (line 3)) (80.1.0)\n",
      "Requirement already satisfied: contourpy>=1.0.1 in /opt/conda/lib/python3.12/site-packages (from matplotlib==3.9.2->-r requirements.txt (line 5)) (1.3.2)\n",
      "Requirement already satisfied: cycler>=0.10 in /opt/conda/lib/python3.12/site-packages (from matplotlib==3.9.2->-r requirements.txt (line 5)) (0.12.1)\n",
      "Requirement already satisfied: fonttools>=4.22.0 in /opt/conda/lib/python3.12/site-packages (from matplotlib==3.9.2->-r requirements.txt (line 5)) (4.57.0)\n",
      "Requirement already satisfied: kiwisolver>=1.3.1 in /opt/conda/lib/python3.12/site-packages (from matplotlib==3.9.2->-r requirements.txt (line 5)) (1.4.8)\n",
      "Requirement already satisfied: packaging>=20.0 in /opt/conda/lib/python3.12/site-packages (from matplotlib==3.9.2->-r requirements.txt (line 5)) (24.2)\n",
      "Requirement already satisfied: pyparsing>=2.3.1 in /opt/conda/lib/python3.12/site-packages (from matplotlib==3.9.2->-r requirements.txt (line 5)) (3.2.3)\n",
      "Requirement already satisfied: python-dateutil>=2.7 in /opt/conda/lib/python3.12/site-packages (from matplotlib==3.9.2->-r requirements.txt (line 5)) (2.9.0.post0)\n",
      "Collecting decorator<5.0,>=4.0.2 (from moviepy==1.0.3->-r requirements.txt (line 6))\n",
      "  Downloading decorator-4.4.2-py2.py3-none-any.whl.metadata (4.2 kB)\n",
      "Requirement already satisfied: imageio<3.0,>=2.5 in /opt/conda/lib/python3.12/site-packages (from moviepy==1.0.3->-r requirements.txt (line 6)) (2.37.0)\n",
      "Requirement already satisfied: tqdm<5.0,>=4.11.2 in /opt/conda/lib/python3.12/site-packages (from moviepy==1.0.3->-r requirements.txt (line 6)) (4.67.1)\n",
      "Requirement already satisfied: requests<3.0,>=2.8.1 in /opt/conda/lib/python3.12/site-packages (from moviepy==1.0.3->-r requirements.txt (line 6)) (2.32.3)\n",
      "Collecting proglog<=1.0.0 (from moviepy==1.0.3->-r requirements.txt (line 6))\n",
      "  Downloading proglog-0.1.12-py3-none-any.whl.metadata (794 bytes)\n",
      "Requirement already satisfied: urllib3>=1.26.18 in /opt/conda/lib/python3.12/site-packages (from opensearch-py==2.4.2->-r requirements.txt (line 8)) (2.4.0)\n",
      "Requirement already satisfied: six in /opt/conda/lib/python3.12/site-packages (from opensearch-py==2.4.2->-r requirements.txt (line 8)) (1.17.0)\n",
      "Requirement already satisfied: certifi>=2022.12.07 in /opt/conda/lib/python3.12/site-packages (from opensearch-py==2.4.2->-r requirements.txt (line 8)) (2025.1.31)\n",
      "Collecting botocore<1.38.0,>=1.37.4 (from boto3==1.37.4->-r requirements.txt (line 11))\n",
      "  Downloading botocore-1.37.38-py3-none-any.whl.metadata (5.7 kB)\n",
      "Requirement already satisfied: jmespath<2.0.0,>=0.7.1 in /opt/conda/lib/python3.12/site-packages (from boto3==1.37.4->-r requirements.txt (line 11)) (1.0.1)\n",
      "Requirement already satisfied: s3transfer<0.12.0,>=0.11.0 in /opt/conda/lib/python3.12/site-packages (from boto3==1.37.4->-r requirements.txt (line 11)) (0.11.3)\n",
      "Requirement already satisfied: charset_normalizer<4,>=2 in /opt/conda/lib/python3.12/site-packages (from requests<3.0,>=2.8.1->moviepy==1.0.3->-r requirements.txt (line 6)) (3.4.2)\n",
      "Requirement already satisfied: idna<4,>=2.5 in /opt/conda/lib/python3.12/site-packages (from requests<3.0,>=2.8.1->moviepy==1.0.3->-r requirements.txt (line 6)) (3.10)\n",
      "Downloading faiss_cpu-1.8.0-cp312-cp312-manylinux_2_17_x86_64.manylinux2014_x86_64.whl (27.0 MB)\n",
      "\u001b[2K   \u001b[90m━━━━━━━━━━━━━━━━━━━━━━━━━━━━━━━━━━━━━━━━\u001b[0m \u001b[32m27.0/27.0 MB\u001b[0m \u001b[31m165.3 MB/s\u001b[0m eta \u001b[36m0:00:00\u001b[0m\n",
      "\u001b[?25hDownloading ImageHash-4.3.1-py2.py3-none-any.whl (296 kB)\n",
      "Downloading imageio_ffmpeg-0.5.1-py3-none-manylinux2010_x86_64.whl (26.9 MB)\n",
      "\u001b[2K   \u001b[90m━━━━━━━━━━━━━━━━━━━━━━━━━━━━━━━━━━━━━━━━\u001b[0m \u001b[32m26.9/26.9 MB\u001b[0m \u001b[31m185.2 MB/s\u001b[0m eta \u001b[36m0:00:00\u001b[0m\n",
      "\u001b[?25hDownloading json_repair-0.30.2-py3-none-any.whl (18 kB)\n",
      "Downloading matplotlib-3.9.2-cp312-cp312-manylinux_2_17_x86_64.manylinux2014_x86_64.whl (8.3 MB)\n",
      "\u001b[2K   \u001b[90m━━━━━━━━━━━━━━━━━━━━━━━━━━━━━━━━━━━━━━━━\u001b[0m \u001b[32m8.3/8.3 MB\u001b[0m \u001b[31m168.3 MB/s\u001b[0m eta \u001b[36m0:00:00\u001b[0m\n",
      "\u001b[?25hDownloading opencv_python_headless-4.10.0.84-cp37-abi3-manylinux_2_17_x86_64.manylinux2014_x86_64.whl (49.9 MB)\n",
      "\u001b[2K   \u001b[90m━━━━━━━━━━━━━━━━━━━━━━━━━━━━━━━━━━━━━━━━\u001b[0m \u001b[32m49.9/49.9 MB\u001b[0m \u001b[31m162.8 MB/s\u001b[0m eta \u001b[36m0:00:00\u001b[0m00:01\u001b[0m\n",
      "\u001b[?25hDownloading opensearch_py-2.4.2-py2.py3-none-any.whl (258 kB)\n",
      "Downloading webvtt_py-0.5.1-py3-none-any.whl (19 kB)\n",
      "Downloading boto3-1.37.4-py3-none-any.whl (139 kB)\n",
      "Downloading botocore-1.37.38-py3-none-any.whl (13.5 MB)\n",
      "\u001b[2K   \u001b[90m━━━━━━━━━━━━━━━━━━━━━━━━━━━━━━━━━━━━━━━━\u001b[0m \u001b[32m13.5/13.5 MB\u001b[0m \u001b[31m177.7 MB/s\u001b[0m eta \u001b[36m0:00:00\u001b[0m\n",
      "\u001b[?25hDownloading decorator-4.4.2-py2.py3-none-any.whl (9.2 kB)\n",
      "Downloading proglog-0.1.12-py3-none-any.whl (6.3 kB)\n",
      "Building wheels for collected packages: moviepy\n",
      "  Building wheel for moviepy (setup.py) ... \u001b[?25ldone\n",
      "\u001b[?25h  Created wheel for moviepy: filename=moviepy-1.0.3-py3-none-any.whl size=110795 sha256=b8dcc70eacfde97b700926f21d17c643f204d07c186a453eaad9e96807ff3dd8\n",
      "  Stored in directory: /home/sagemaker-user/.cache/pip/wheels/df/ba/4b/0917fc0c8833c8ba7016565fc975b74c67bc8610806e930272\n",
      "Successfully built moviepy\n",
      "Installing collected packages: webvtt-py, proglog, opencv-python-headless, json_repair, imageio-ffmpeg, faiss-cpu, decorator, opensearch-py, moviepy, matplotlib, ImageHash, botocore, boto3\n",
      "  Attempting uninstall: decorator\n",
      "    Found existing installation: decorator 5.2.1\n",
      "    Uninstalling decorator-5.2.1:\n",
      "      Successfully uninstalled decorator-5.2.1\n",
      "  Attempting uninstall: matplotlib\n",
      "    Found existing installation: matplotlib 3.10.1\n",
      "    Uninstalling matplotlib-3.10.1:\n",
      "      Successfully uninstalled matplotlib-3.10.1\n",
      "  Attempting uninstall: botocore\n",
      "    Found existing installation: botocore 1.37.1\n",
      "    Uninstalling botocore-1.37.1:\n",
      "      Successfully uninstalled botocore-1.37.1\n",
      "  Attempting uninstall: boto3\n",
      "    Found existing installation: boto3 1.37.1\n",
      "    Uninstalling boto3-1.37.1:\n",
      "      Successfully uninstalled boto3-1.37.1\n",
      "\u001b[31mERROR: pip's dependency resolver does not currently take into account all the packages that are installed. This behaviour is the source of the following dependency conflicts.\n",
      "autogluon-multimodal 1.2 requires nvidia-ml-py3==7.352.0, which is not installed.\n",
      "aiobotocore 2.21.1 requires botocore<1.37.2,>=1.37.0, but you have botocore 1.37.38 which is incompatible.\n",
      "autogluon-multimodal 1.2 requires jsonschema<4.22,>=4.18, but you have jsonschema 4.23.0 which is incompatible.\n",
      "autogluon-multimodal 1.2 requires nltk<3.9,>=3.4.5, but you have nltk 3.9.1 which is incompatible.\n",
      "autogluon-multimodal 1.2 requires omegaconf<2.3.0,>=2.1.1, but you have omegaconf 2.3.0 which is incompatible.\n",
      "autogluon-multimodal 1.2 requires transformers[sentencepiece]<4.50,>=4.38.0, but you have transformers 4.51.3 which is incompatible.\n",
      "autogluon-timeseries 1.2 requires coreforecast==0.0.12, but you have coreforecast 0.0.16 which is incompatible.\n",
      "autogluon-timeseries 1.2 requires mlforecast==0.13.4, but you have mlforecast 0.13.6 which is incompatible.\n",
      "autogluon-timeseries 1.2 requires transformers[sentencepiece]<4.50,>=4.38.0, but you have transformers 4.51.3 which is incompatible.\n",
      "langchain-aws 0.2.19 requires boto3>=1.37.24, but you have boto3 1.37.4 which is incompatible.\n",
      "sagemaker-studio-analytics-extension 0.1.7 requires sparkmagic==0.22.0, but you have sparkmagic 0.21.0 which is incompatible.\n",
      "sparkmagic 0.21.0 requires pandas<2.0.0,>=0.17.1, but you have pandas 2.2.3 which is incompatible.\u001b[0m\u001b[31m\n",
      "\u001b[0mSuccessfully installed ImageHash-4.3.1 boto3-1.37.4 botocore-1.37.38 decorator-4.4.2 faiss-cpu-1.8.0 imageio-ffmpeg-0.5.1 json_repair-0.30.2 matplotlib-3.9.2 moviepy-1.0.3 opencv-python-headless-4.10.0.84 opensearch-py-2.4.2 proglog-0.1.12 webvtt-py-0.5.1\n",
      "Note: you may need to restart the kernel to use updated packages.\n"
     ]
    }
   ],
   "source": [
    "%pip install -r requirements.txt"
   ]
  },
  {
   "cell_type": "markdown",
   "id": "1791af4f-680a-4451-8e80-184fe2f3404a",
   "metadata": {},
   "source": [
    "## SageMaker 기본 리소스 얻기"
   ]
  },
  {
   "cell_type": "code",
   "execution_count": 5,
   "id": "63b8b333-7644-4665-95b5-85ce17eae42b",
   "metadata": {
    "editable": false,
    "slideshow": {
     "slide_type": ""
    },
    "tags": []
   },
   "outputs": [
    {
     "name": "stdout",
     "output_type": "stream",
     "text": [
      "sagemaker.config INFO - Not applying SDK defaults from location: /etc/xdg/sagemaker/config.yaml\n",
      "sagemaker.config INFO - Not applying SDK defaults from location: /home/sagemaker-user/.config/sagemaker/config.yaml\n",
      "{'role': 'arn:aws:iam::461688981841:role/workshop-SageMakerExecutionRole-RVcj7OLUoSnS', 'region': 'us-west-2'}\n"
     ]
    }
   ],
   "source": [
    "import sagemaker\n",
    "\n",
    "sagemaker_resources = {}\n",
    "#sagemaker_resources[\"session\"] = sagemaker.Session()\n",
    "sagemaker_resources[\"role\"] = sagemaker.get_execution_role()\n",
    "sagemaker_resources[\"region\"] = sagemaker.Session()._region_name\n",
    "\n",
    "print(sagemaker_resources)"
   ]
  },
  {
   "cell_type": "markdown",
   "id": "1bb318ff-0b5c-4095-bddf-4eb947baf170",
   "metadata": {},
   "source": [
    "# AWS 세션 리소스 설정\n",
    "\n",
    "AWS 호스팅 이벤트에서 실행하는 경우, AWS 리소스가 사전에 생성되어 있으며 아래 셀을 사용하여 CloudFormation 출력에서 해당 리소스들을 로드하게 됩니다. 자체 계정에서 실행하는 경우, 수동으로 생성한 리소스에서 다음 변수들을 설정해야 합니다."
   ]
  },
  {
   "cell_type": "markdown",
   "id": "6a018cb6-c58c-41b5-bcdf-263ff932bba2",
   "metadata": {},
   "source": [
    "## CloudFormation 스택 출력 가져오기 (AWS 호스팅 이벤트 전용)"
   ]
  },
  {
   "cell_type": "code",
   "execution_count": 6,
   "id": "fb73ce3b-4c34-4fff-8cff-642dcd0c3352",
   "metadata": {
    "editable": true,
    "slideshow": {
     "slide_type": ""
    },
    "tags": []
   },
   "outputs": [],
   "source": [
    "import boto3\n",
    "from IPython.display import JSON\n",
    "cf = boto3.client(service_name=\"cloudformation\")\n",
    "stack = response = cf.describe_stacks(StackName='workshop')"
   ]
  },
  {
   "cell_type": "code",
   "execution_count": 7,
   "id": "227f450a-d480-45d9-a518-d90cb14027ee",
   "metadata": {
    "editable": false,
    "slideshow": {
     "slide_type": ""
    },
    "tags": []
   },
   "outputs": [
    {
     "data": {
      "application/json": {
       "ResponseMetadata": {
        "HTTPHeaders": {
         "connection": "keep-alive",
         "content-length": "3084",
         "content-type": "text/xml",
         "date": "Wed, 21 May 2025 08:18:33 GMT",
         "x-amzn-requestid": "c1eff92b-0d57-43d1-a264-f4956a2b0f41"
        },
        "HTTPStatusCode": 200,
        "RequestId": "c1eff92b-0d57-43d1-a264-f4956a2b0f41",
        "RetryAttempts": 0
       },
       "Stacks": [
        {
         "Capabilities": [
          "CAPABILITY_IAM",
          "CAPABILITY_NAMED_IAM",
          "CAPABILITY_AUTO_EXPAND"
         ],
         "ChangeSetId": "arn:aws:cloudformation:us-west-2:461688981841:changeSet/workshop/91b42cd8-ced6-4e18-a15d-9ae8eda61c80",
         "CreationTime": "2025-05-21T07:14:17.028000Z",
         "Description": "This is a minimal example of creating a SageMaker Studio Domain which will default to JL3 servers at launch\n",
         "DisableRollback": true,
         "DriftInformation": {
          "StackDriftStatus": "NOT_CHECKED"
         },
         "EnableTerminationProtection": false,
         "LastUpdatedTime": "2025-05-21T07:14:47.817000Z",
         "NotificationARNs": [],
         "Outputs": [
          {
           "OutputKey": "StudioDomainId",
           "OutputValue": "d-lqlwvyfugrtw"
          },
          {
           "OutputKey": "SageMakerExecutionRole",
           "OutputValue": "arn:aws:iam::461688981841:role/workshop-SageMakerExecutionRole-RVcj7OLUoSnS"
          },
          {
           "OutputKey": "AOSSCollectionEndpoint",
           "OutputValue": "https://estjs1e2rcaov21t6plb.us-west-2.aoss.amazonaws.com"
          },
          {
           "OutputKey": "StudioUrl",
           "OutputValue": "https://d-lqlwvyfugrtw.studio.us-west-2.sagemaker.aws"
          },
          {
           "OutputKey": "MediaConvertRole",
           "OutputValue": "arn:aws:iam::461688981841:role/workshop-MediaConvertRole"
          },
          {
           "OutputKey": "S3BucketName",
           "OutputValue": "workshop-sagemakerdefaultbucket-cghbemntbhwa"
          },
          {
           "OutputKey": "UserProfileName",
           "OutputValue": "workshop-user"
          }
         ],
         "Parameters": [
          {
           "ParameterKey": "DomainName",
           "ParameterValue": "aws-video-understanding-workshop"
          },
          {
           "ParameterKey": "UserProfileName",
           "ParameterValue": "workshop-user"
          }
         ],
         "RollbackConfiguration": {},
         "StackId": "arn:aws:cloudformation:us-west-2:461688981841:stack/workshop/34dfb500-3613-11f0-afd7-0a36631ad235",
         "StackName": "workshop",
         "StackStatus": "CREATE_COMPLETE",
         "Tags": []
        }
       ]
      },
      "text/plain": [
       "<IPython.core.display.JSON object>"
      ]
     },
     "execution_count": 7,
     "metadata": {
      "application/json": {
       "expanded": false,
       "root": "root"
      }
     },
     "output_type": "execute_result"
    }
   ],
   "source": [
    "JSON(stack)"
   ]
  },
  {
   "cell_type": "code",
   "execution_count": 8,
   "id": "c6771eae-5fc9-408e-8464-1ed9726b9955",
   "metadata": {
    "editable": false,
    "slideshow": {
     "slide_type": ""
    },
    "tags": []
   },
   "outputs": [],
   "source": [
    "session = {}\n",
    "session['bucket'] = next(item[\"OutputValue\"] for item in stack['Stacks'][0]['Outputs'] if item[\"OutputKey\"] == \"S3BucketName\")\n",
    "session['MediaConvertRole'] = next(item[\"OutputValue\"] for item in stack['Stacks'][0]['Outputs'] if item[\"OutputKey\"] == \"MediaConvertRole\")\n",
    "session[\"AOSSCollectionEndpoint\"] = next(item[\"OutputValue\"] for item in stack['Stacks'][0]['Outputs'] if item[\"OutputKey\"] == \"AOSSCollectionEndpoint\")"
   ]
  },
  {
   "cell_type": "markdown",
   "id": "aacbfe19-95f2-4e6b-8a57-320582d44bff",
   "metadata": {
    "jp-MarkdownHeadingCollapsed": true,
    "slideshow": {
     "slide_type": ""
    },
    "tags": []
   },
   "source": [
    "# Amazon Q Developer 찾기\n",
    "\n",
    "SageMaker Studio의 Jupyter 노트북에는 Amazon Q Developer가 활성화되어 있습니다.\n",
    "\n",
    "1. Q Developer를 사용하려면 왼쪽 사이드바 메뉴에서 Q Developer 채팅 아이콘을 클릭하세요. 활성화된 사이드 패널이 이제 Amazon Q Developer가 됩니다.\n",
    "<br></br>\n",
    "<img src=\"static/images/00-qdev-sidebar1.png\" alt=\"Q Developer Sidebar\" style=\"width: 600px;\"/>\n",
    "<br></br>\n",
    "2. 질문을 해보면서 사용해보세요. 예를 들어, 다음과 같이 물어볼 수 있습니다: `Q Developer는 어떤 종류의 질문에 답변할 수 있나요? 간단히 설명해주세요.` 다음과 같은 응답을 받을 수 있습니다:\n",
    "<br></br>\n",
    "<img src=\"static/images/00-qdev-skills1.png\" alt=\"Q Developer Skills\" style=\"width: 600px;\"/>\n",
    "<br></br>"
   ]
  },
  {
   "cell_type": "markdown",
   "id": "eb045c80-93ee-45dd-9c2f-d510e1cc29bb",
   "metadata": {
    "editable": true,
    "slideshow": {
     "slide_type": ""
    },
    "tags": []
   },
   "source": [
    "Throughout this workshop, you can use Q when you encounter errors or have questions about the code.  "
   ]
  },
  {
   "cell_type": "markdown",
   "id": "9dd4e668-e7bc-4594-b9e8-d53c9c0834c3",
   "metadata": {
    "editable": true,
    "slideshow": {
     "slide_type": ""
    },
    "tags": []
   },
   "source": [
    "# 다른 노트북에서 사용할 변수 저장하기\n",
    "\n",
    "다음 실습에서 이 데이터를 사용할 예정입니다. 이 데이터를 사용하기 위해, 후속 노트북에서 사용할 수 있도록 이러한 변수들을 저장하겠습니다."
   ]
  },
  {
   "cell_type": "code",
   "execution_count": 9,
   "id": "be070591-e890-4147-97ed-c3f77af4eb35",
   "metadata": {
    "editable": false,
    "slideshow": {
     "slide_type": ""
    },
    "tags": []
   },
   "outputs": [
    {
     "name": "stdout",
     "output_type": "stream",
     "text": [
      "Stored 'sagemaker_resources' (dict)\n",
      "Stored 'session' (dict)\n"
     ]
    }
   ],
   "source": [
    "%store sagemaker_resources\n",
    "%store session"
   ]
  },
  {
   "cell_type": "markdown",
   "id": "2104fa1b-4880-44c7-b715-a3c1ee44d4a1",
   "metadata": {
    "slideshow": {
     "slide_type": ""
    },
    "tags": []
   },
   "source": [
    "# 워크샵의 다음 섹션으로 계속하기\n",
    "\n",
    "여기에서 Bedrock Data Automation으로 작업하는 Part1 또는 Amazon Nova 워크플로우로 작업하는 Part2 중 선택하여 진행할 수 있습니다.\n",
    "\n",
    "1. [Part1 시작: BDA를 사용한 영화 추출 및 분석](1-media-analysis-using-bda/01-extract-analyze-a-movie.ipynb)\n",
    "2. [Part2 시작: 시각적 비디오 세그먼트: 프레임, 샷 및 장면](2-media-analysis-using-amazon-nova/01A-visual-segments-frames-shots-scenes.ipynb)"
   ]
  }
 ],
 "metadata": {
  "kernelspec": {
   "display_name": "Python 3 (ipykernel)",
   "language": "python",
   "name": "python3"
  },
  "language_info": {
   "codemirror_mode": {
    "name": "ipython",
    "version": 3
   },
   "file_extension": ".py",
   "mimetype": "text/x-python",
   "name": "python",
   "nbconvert_exporter": "python",
   "pygments_lexer": "ipython3",
   "version": "3.12.9"
  }
 },
 "nbformat": 4,
 "nbformat_minor": 5
}
